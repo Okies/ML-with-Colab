{
  "nbformat": 4,
  "nbformat_minor": 0,
  "metadata": {
    "colab": {
      "name": "MLP_diabetes.ipynb",
      "version": "0.3.2",
      "provenance": [],
      "collapsed_sections": [],
      "include_colab_link": true
    },
    "kernelspec": {
      "name": "python3",
      "display_name": "Python 3"
    },
    "accelerator": "GPU"
  },
  "cells": [
    {
      "cell_type": "markdown",
      "metadata": {
        "id": "view-in-github",
        "colab_type": "text"
      },
      "source": [
        "<a href=\"https://colab.research.google.com/github/Okies/ML-with-Colab/blob/master/Keras/MLP_diabetes.ipynb\" target=\"_parent\"><img src=\"https://colab.research.google.com/assets/colab-badge.svg\" alt=\"Open In Colab\"/></a>"
      ]
    },
    {
      "cell_type": "markdown",
      "metadata": {
        "id": "ueQ61Ohywh1v",
        "colab_type": "text"
      },
      "source": [
        "#구글 드라이브 마운트\n",
        "\n",
        "아래 링크 클릭 후  권한 요청 허용 및 코드 복사해서 입력"
      ]
    },
    {
      "cell_type": "code",
      "metadata": {
        "id": "-cONtXY9s9SB",
        "colab_type": "code",
        "colab": {}
      },
      "source": [
        "from google.colab import drive\n",
        "drive.mount('/content/drive')"
      ],
      "execution_count": 0,
      "outputs": []
    },
    {
      "cell_type": "markdown",
      "metadata": {
        "id": "ttGbwvqAws57",
        "colab_type": "text"
      },
      "source": [
        "# 경로 확인 및 이동 테스트"
      ]
    },
    {
      "cell_type": "code",
      "metadata": {
        "id": "hZwegpSztaKk",
        "colab_type": "code",
        "colab": {}
      },
      "source": [
        "%ls\n",
        "\n",
        "%cd ./drive\n",
        "\n",
        "%ls\n",
        "\n",
        "%cd ./My Drive\n",
        "\n",
        "%ls\n",
        "\n",
        "%cd ./Colab Notebooks\n",
        "\n",
        "%ls\n",
        "\n",
        "%cd ./data\n",
        "\n",
        "%ls"
      ],
      "execution_count": 0,
      "outputs": []
    },
    {
      "cell_type": "code",
      "metadata": {
        "id": "wEMnU9UNtps0",
        "colab_type": "code",
        "colab": {
          "base_uri": "https://localhost:8080/",
          "height": 35
        },
        "outputId": "966ca9ed-a81a-41c3-d5e3-bf4609e46bbe"
      },
      "source": [
        "%cd ../../../.."
      ],
      "execution_count": 19,
      "outputs": [
        {
          "output_type": "stream",
          "text": [
            "/content\n"
          ],
          "name": "stdout"
        }
      ]
    },
    {
      "cell_type": "markdown",
      "metadata": {
        "id": "48UH5O1cw1U8",
        "colab_type": "text"
      },
      "source": [
        "# 데이터 확인"
      ]
    },
    {
      "cell_type": "code",
      "metadata": {
        "id": "IXfRKfb3jjlz",
        "colab_type": "code",
        "colab": {}
      },
      "source": [
        "import pandas as pd\n",
        "dataset = pd.read_csv(\"./drive/My Drive/Colab Notebooks/data/diabetes.csv\", delimiter=\",\")\n",
        "dataset = dataset.values\n",
        "\n",
        "dataset"
      ],
      "execution_count": 0,
      "outputs": []
    },
    {
      "cell_type": "code",
      "metadata": {
        "id": "wTgWIVB-wbAT",
        "colab_type": "code",
        "colab": {}
      },
      "source": [
        "df = pd.DataFrame(dataset)\n",
        "\n",
        "df"
      ],
      "execution_count": 0,
      "outputs": []
    },
    {
      "cell_type": "markdown",
      "metadata": {
        "id": "EbeCkPZPw97y",
        "colab_type": "text"
      },
      "source": [
        "# 학습"
      ]
    },
    {
      "cell_type": "code",
      "metadata": {
        "id": "G0lT_x92wBDO",
        "colab_type": "code",
        "colab": {}
      },
      "source": [
        "import numpy as np\n",
        "from keras.models import Sequential\n",
        "from keras.layers import Dense\n",
        "\n",
        "np.random.seed(5)\n",
        "\n",
        "import pandas as pd\n",
        "dataset = pd.read_csv(\"./drive/My Drive/Colab Notebooks/data/diabetes.csv\", delimiter=\",\")\n",
        "dataset = dataset.values\n",
        "\n",
        "x_train = dataset[:700,0:8]\n",
        "y_train = dataset[:700,8]\n",
        "x_test = dataset[700:,0:8]\n",
        "y_test = dataset[700:,8]\n",
        "\n",
        "model = Sequential()\n",
        "model.add(Dense(12, input_dim=8, activation='relu'))\n",
        "model.add(Dense(8, activation='relu'))\n",
        "model.add(Dense(4, activation='relu'))\n",
        "model.add(Dense(1, activation='sigmoid'))\n",
        "\n",
        "model.compile(loss='binary_crossentropy', optimizer='adam', metrics=['accuracy'])\n",
        "\n",
        "model.fit(x_train, y_train, epochs=1600, batch_size=64)"
      ],
      "execution_count": 0,
      "outputs": []
    },
    {
      "cell_type": "markdown",
      "metadata": {
        "id": "4QdJ00V1BJEb",
        "colab_type": "text"
      },
      "source": [
        "# 모델 시각화"
      ]
    },
    {
      "cell_type": "code",
      "metadata": {
        "id": "6oktIhvVzpyr",
        "colab_type": "code",
        "colab": {}
      },
      "source": [
        "from IPython.display import SVG\n",
        "from keras.utils.vis_utils import model_to_dot\n",
        "\n",
        "%matplotlib inline\n",
        "\n",
        "SVG(model_to_dot(model, show_shapes=True).create(prog='dot', format='svg'))"
      ],
      "execution_count": 0,
      "outputs": []
    },
    {
      "cell_type": "markdown",
      "metadata": {
        "id": "0p17vr_uBOEZ",
        "colab_type": "text"
      },
      "source": [
        "# 평가"
      ]
    },
    {
      "cell_type": "code",
      "metadata": {
        "id": "Nfa-O-tlz3Y2",
        "colab_type": "code",
        "colab": {}
      },
      "source": [
        "scores = model.evaluate(x_test, y_test)\n",
        "print(\"%s: %.2f%%\" %(model.metrics_names[1], scores[1]*100))"
      ],
      "execution_count": 0,
      "outputs": []
    }
  ]
}