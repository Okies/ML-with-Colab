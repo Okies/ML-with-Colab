{
  "nbformat": 4,
  "nbformat_minor": 0,
  "metadata": {
    "colab": {
      "name": "MLP_diabetes.ipynb",
      "version": "0.3.2",
      "provenance": [],
      "collapsed_sections": [],
      "include_colab_link": true
    },
    "kernelspec": {
      "name": "python3",
      "display_name": "Python 3"
    },
    "accelerator": "GPU"
  },
  "cells": [
    {
      "cell_type": "markdown",
      "metadata": {
        "id": "view-in-github",
        "colab_type": "text"
      },
      "source": [
        "<a href=\"https://colab.research.google.com/github/Okies/ML-with-Colab/blob/master/Keras/MLP_diabetes.ipynb\" target=\"_parent\"><img src=\"https://colab.research.google.com/assets/colab-badge.svg\" alt=\"Open In Colab\"/></a>"
      ]
    },
    {
      "cell_type": "markdown",
      "metadata": {
        "id": "QpYyotF1Y4mg",
        "colab_type": "text"
      },
      "source": [
        "# 데이터 다운로드\n",
        "\n",
        "아래 링크 데이터 다운로드 이후, 구글 드라이브 **Colab Notbooks/data**에 위치\n",
        "\n",
        "[pima-indians-diabetes](https://www.kaggle.com/uciml/pima-indians-diabetes-database)"
      ]
    },
    {
      "cell_type": "markdown",
      "metadata": {
        "id": "ueQ61Ohywh1v",
        "colab_type": "text"
      },
      "source": [
        "#구글 드라이브 마운트\n",
        "\n",
        "아래 링크 클릭 후  권한 요청 허용 및 코드 복사해서 입력"
      ]
    },
    {
      "cell_type": "code",
      "metadata": {
        "id": "-cONtXY9s9SB",
        "colab_type": "code",
        "colab": {}
      },
      "source": [
        "from google.colab import drive\n",
        "drive.mount('/content/drive')"
      ],
      "execution_count": 0,
      "outputs": []
    },
    {
      "cell_type": "markdown",
      "metadata": {
        "id": "ttGbwvqAws57",
        "colab_type": "text"
      },
      "source": [
        "# 경로 확인 및 이동 테스트"
      ]
    },
    {
      "cell_type": "code",
      "metadata": {
        "id": "hZwegpSztaKk",
        "colab_type": "code",
        "colab": {}
      },
      "source": [
        "%ls\n",
        "\n",
        "%cd ./drive\n",
        "\n",
        "%ls\n",
        "\n",
        "%cd ./My Drive\n",
        "\n",
        "%ls\n",
        "\n",
        "%cd ./Colab Notebooks\n",
        "\n",
        "%ls\n",
        "\n",
        "%cd ./data\n",
        "\n",
        "%ls"
      ],
      "execution_count": 0,
      "outputs": []
    },
    {
      "cell_type": "code",
      "metadata": {
        "id": "wEMnU9UNtps0",
        "colab_type": "code",
        "colab": {}
      },
      "source": [
        "%cd ../../../.."
      ],
      "execution_count": 0,
      "outputs": []
    },
    {
      "cell_type": "markdown",
      "metadata": {
        "id": "48UH5O1cw1U8",
        "colab_type": "text"
      },
      "source": [
        "# 데이터 확인"
      ]
    },
    {
      "cell_type": "code",
      "metadata": {
        "id": "IXfRKfb3jjlz",
        "colab_type": "code",
        "colab": {}
      },
      "source": [
        "import pandas as pd\n",
        "dataset = pd.read_csv(\"./drive/My Drive/Colab Notebooks/data/diabetes.csv\", delimiter=\",\")\n",
        "dataset = dataset.values\n",
        "\n",
        "dataset"
      ],
      "execution_count": 0,
      "outputs": []
    },
    {
      "cell_type": "code",
      "metadata": {
        "id": "wTgWIVB-wbAT",
        "colab_type": "code",
        "colab": {}
      },
      "source": [
        "df = pd.DataFrame(dataset)\n",
        "\n",
        "df"
      ],
      "execution_count": 0,
      "outputs": []
    },
    {
      "cell_type": "markdown",
      "metadata": {
        "id": "EbeCkPZPw97y",
        "colab_type": "text"
      },
      "source": [
        "# 학습"
      ]
    },
    {
      "cell_type": "code",
      "metadata": {
        "id": "G0lT_x92wBDO",
        "colab_type": "code",
        "colab": {}
      },
      "source": [
        "import numpy as np\n",
        "from keras.models import Sequential\n",
        "from keras.layers import Dense\n",
        "\n",
        "np.random.seed(5)\n",
        "\n",
        "import pandas as pd\n",
        "dataset = pd.read_csv(\"./drive/My Drive/Colab Notebooks/data/diabetes.csv\", delimiter=\",\")\n",
        "dataset = dataset.values\n",
        "\n",
        "x_train = dataset[:700,0:8]\n",
        "y_train = dataset[:700,8]\n",
        "x_test = dataset[700:,0:8]\n",
        "y_test = dataset[700:,8]\n",
        "\n",
        "model = Sequential()\n",
        "model.add(Dense(12, input_dim=8, activation='relu'))\n",
        "model.add(Dense(8, activation='relu'))\n",
        "model.add(Dense(4, activation='relu'))\n",
        "model.add(Dense(1, activation='sigmoid'))\n",
        "\n",
        "model.compile(loss='binary_crossentropy', optimizer='adam', metrics=['accuracy'])\n",
        "\n",
        "model.fit(x_train, y_train, epochs=1600, batch_size=64)"
      ],
      "execution_count": 0,
      "outputs": []
    },
    {
      "cell_type": "markdown",
      "metadata": {
        "id": "4QdJ00V1BJEb",
        "colab_type": "text"
      },
      "source": [
        "# 모델 시각화"
      ]
    },
    {
      "cell_type": "code",
      "metadata": {
        "id": "6oktIhvVzpyr",
        "colab_type": "code",
        "colab": {
          "base_uri": "https://localhost:8080/",
          "height": 523
        },
        "outputId": "c95836cb-a641-48b1-e2be-0b4254350d41"
      },
      "source": [
        "from IPython.display import SVG\n",
        "from keras.utils.vis_utils import model_to_dot\n",
        "\n",
        "%matplotlib inline\n",
        "\n",
        "SVG(model_to_dot(model, show_shapes=True).create(prog='dot', format='svg'))"
      ],
      "execution_count": 55,
      "outputs": [
        {
          "output_type": "execute_result",
          "data": {
            "text/plain": [
              "<IPython.core.display.SVG object>"
            ],
            "image/svg+xml": "<svg height=\"377pt\" viewBox=\"0.00 0.00 260.00 377.00\" width=\"260pt\" xmlns=\"http://www.w3.org/2000/svg\" xmlns:xlink=\"http://www.w3.org/1999/xlink\">\n<g class=\"graph\" id=\"graph0\" transform=\"scale(1 1) rotate(0) translate(4 373)\">\n<title>G</title>\n<polygon fill=\"#ffffff\" points=\"-4,4 -4,-373 256,-373 256,4 -4,4\" stroke=\"transparent\"/>\n<!-- 139746687586376 -->\n<g class=\"node\" id=\"node1\">\n<title>139746687586376</title>\n<polygon fill=\"none\" points=\"0,-249.5 0,-295.5 252,-295.5 252,-249.5 0,-249.5\" stroke=\"#000000\"/>\n<text fill=\"#000000\" font-family=\"Times,serif\" font-size=\"14.00\" text-anchor=\"middle\" x=\"57\" y=\"-268.8\">dense_22: Dense</text>\n<polyline fill=\"none\" points=\"114,-249.5 114,-295.5 \" stroke=\"#000000\"/>\n<text fill=\"#000000\" font-family=\"Times,serif\" font-size=\"14.00\" text-anchor=\"middle\" x=\"143\" y=\"-280.3\">input:</text>\n<polyline fill=\"none\" points=\"114,-272.5 172,-272.5 \" stroke=\"#000000\"/>\n<text fill=\"#000000\" font-family=\"Times,serif\" font-size=\"14.00\" text-anchor=\"middle\" x=\"143\" y=\"-257.3\">output:</text>\n<polyline fill=\"none\" points=\"172,-249.5 172,-295.5 \" stroke=\"#000000\"/>\n<text fill=\"#000000\" font-family=\"Times,serif\" font-size=\"14.00\" text-anchor=\"middle\" x=\"212\" y=\"-280.3\">(None, 8)</text>\n<polyline fill=\"none\" points=\"172,-272.5 252,-272.5 \" stroke=\"#000000\"/>\n<text fill=\"#000000\" font-family=\"Times,serif\" font-size=\"14.00\" text-anchor=\"middle\" x=\"212\" y=\"-257.3\">(None, 12)</text>\n</g>\n<!-- 139748198316912 -->\n<g class=\"node\" id=\"node2\">\n<title>139748198316912</title>\n<polygon fill=\"none\" points=\"0,-166.5 0,-212.5 252,-212.5 252,-166.5 0,-166.5\" stroke=\"#000000\"/>\n<text fill=\"#000000\" font-family=\"Times,serif\" font-size=\"14.00\" text-anchor=\"middle\" x=\"57\" y=\"-185.8\">dense_23: Dense</text>\n<polyline fill=\"none\" points=\"114,-166.5 114,-212.5 \" stroke=\"#000000\"/>\n<text fill=\"#000000\" font-family=\"Times,serif\" font-size=\"14.00\" text-anchor=\"middle\" x=\"143\" y=\"-197.3\">input:</text>\n<polyline fill=\"none\" points=\"114,-189.5 172,-189.5 \" stroke=\"#000000\"/>\n<text fill=\"#000000\" font-family=\"Times,serif\" font-size=\"14.00\" text-anchor=\"middle\" x=\"143\" y=\"-174.3\">output:</text>\n<polyline fill=\"none\" points=\"172,-166.5 172,-212.5 \" stroke=\"#000000\"/>\n<text fill=\"#000000\" font-family=\"Times,serif\" font-size=\"14.00\" text-anchor=\"middle\" x=\"212\" y=\"-197.3\">(None, 12)</text>\n<polyline fill=\"none\" points=\"172,-189.5 252,-189.5 \" stroke=\"#000000\"/>\n<text fill=\"#000000\" font-family=\"Times,serif\" font-size=\"14.00\" text-anchor=\"middle\" x=\"212\" y=\"-174.3\">(None, 8)</text>\n</g>\n<!-- 139746687586376&#45;&gt;139748198316912 -->\n<g class=\"edge\" id=\"edge2\">\n<title>139746687586376-&gt;139748198316912</title>\n<path d=\"M126,-249.3799C126,-241.1745 126,-231.7679 126,-222.8786\" fill=\"none\" stroke=\"#000000\"/>\n<polygon fill=\"#000000\" points=\"129.5001,-222.784 126,-212.784 122.5001,-222.784 129.5001,-222.784\" stroke=\"#000000\"/>\n</g>\n<!-- 139746687411816 -->\n<g class=\"node\" id=\"node3\">\n<title>139746687411816</title>\n<polygon fill=\"none\" points=\"4,-83.5 4,-129.5 248,-129.5 248,-83.5 4,-83.5\" stroke=\"#000000\"/>\n<text fill=\"#000000\" font-family=\"Times,serif\" font-size=\"14.00\" text-anchor=\"middle\" x=\"61\" y=\"-102.8\">dense_24: Dense</text>\n<polyline fill=\"none\" points=\"118,-83.5 118,-129.5 \" stroke=\"#000000\"/>\n<text fill=\"#000000\" font-family=\"Times,serif\" font-size=\"14.00\" text-anchor=\"middle\" x=\"147\" y=\"-114.3\">input:</text>\n<polyline fill=\"none\" points=\"118,-106.5 176,-106.5 \" stroke=\"#000000\"/>\n<text fill=\"#000000\" font-family=\"Times,serif\" font-size=\"14.00\" text-anchor=\"middle\" x=\"147\" y=\"-91.3\">output:</text>\n<polyline fill=\"none\" points=\"176,-83.5 176,-129.5 \" stroke=\"#000000\"/>\n<text fill=\"#000000\" font-family=\"Times,serif\" font-size=\"14.00\" text-anchor=\"middle\" x=\"212\" y=\"-114.3\">(None, 8)</text>\n<polyline fill=\"none\" points=\"176,-106.5 248,-106.5 \" stroke=\"#000000\"/>\n<text fill=\"#000000\" font-family=\"Times,serif\" font-size=\"14.00\" text-anchor=\"middle\" x=\"212\" y=\"-91.3\">(None, 4)</text>\n</g>\n<!-- 139748198316912&#45;&gt;139746687411816 -->\n<g class=\"edge\" id=\"edge3\">\n<title>139748198316912-&gt;139746687411816</title>\n<path d=\"M126,-166.3799C126,-158.1745 126,-148.7679 126,-139.8786\" fill=\"none\" stroke=\"#000000\"/>\n<polygon fill=\"#000000\" points=\"129.5001,-139.784 126,-129.784 122.5001,-139.784 129.5001,-139.784\" stroke=\"#000000\"/>\n</g>\n<!-- 139746687183504 -->\n<g class=\"node\" id=\"node4\">\n<title>139746687183504</title>\n<polygon fill=\"none\" points=\"4,-.5 4,-46.5 248,-46.5 248,-.5 4,-.5\" stroke=\"#000000\"/>\n<text fill=\"#000000\" font-family=\"Times,serif\" font-size=\"14.00\" text-anchor=\"middle\" x=\"61\" y=\"-19.8\">dense_25: Dense</text>\n<polyline fill=\"none\" points=\"118,-.5 118,-46.5 \" stroke=\"#000000\"/>\n<text fill=\"#000000\" font-family=\"Times,serif\" font-size=\"14.00\" text-anchor=\"middle\" x=\"147\" y=\"-31.3\">input:</text>\n<polyline fill=\"none\" points=\"118,-23.5 176,-23.5 \" stroke=\"#000000\"/>\n<text fill=\"#000000\" font-family=\"Times,serif\" font-size=\"14.00\" text-anchor=\"middle\" x=\"147\" y=\"-8.3\">output:</text>\n<polyline fill=\"none\" points=\"176,-.5 176,-46.5 \" stroke=\"#000000\"/>\n<text fill=\"#000000\" font-family=\"Times,serif\" font-size=\"14.00\" text-anchor=\"middle\" x=\"212\" y=\"-31.3\">(None, 4)</text>\n<polyline fill=\"none\" points=\"176,-23.5 248,-23.5 \" stroke=\"#000000\"/>\n<text fill=\"#000000\" font-family=\"Times,serif\" font-size=\"14.00\" text-anchor=\"middle\" x=\"212\" y=\"-8.3\">(None, 1)</text>\n</g>\n<!-- 139746687411816&#45;&gt;139746687183504 -->\n<g class=\"edge\" id=\"edge4\">\n<title>139746687411816-&gt;139746687183504</title>\n<path d=\"M126,-83.3799C126,-75.1745 126,-65.7679 126,-56.8786\" fill=\"none\" stroke=\"#000000\"/>\n<polygon fill=\"#000000\" points=\"129.5001,-56.784 126,-46.784 122.5001,-56.784 129.5001,-56.784\" stroke=\"#000000\"/>\n</g>\n<!-- 139746687181320 -->\n<g class=\"node\" id=\"node5\">\n<title>139746687181320</title>\n<polygon fill=\"none\" points=\"61.5,-332.5 61.5,-368.5 190.5,-368.5 190.5,-332.5 61.5,-332.5\" stroke=\"#000000\"/>\n<text fill=\"#000000\" font-family=\"Times,serif\" font-size=\"14.00\" text-anchor=\"middle\" x=\"126\" y=\"-346.8\">139746687181320</text>\n</g>\n<!-- 139746687181320&#45;&gt;139746687586376 -->\n<g class=\"edge\" id=\"edge1\">\n<title>139746687181320-&gt;139746687586376</title>\n<path d=\"M126,-332.4092C126,-324.4308 126,-314.795 126,-305.606\" fill=\"none\" stroke=\"#000000\"/>\n<polygon fill=\"#000000\" points=\"129.5001,-305.5333 126,-295.5333 122.5001,-305.5334 129.5001,-305.5333\" stroke=\"#000000\"/>\n</g>\n</g>\n</svg>"
          },
          "metadata": {
            "tags": []
          },
          "execution_count": 55
        }
      ]
    },
    {
      "cell_type": "markdown",
      "metadata": {
        "id": "0p17vr_uBOEZ",
        "colab_type": "text"
      },
      "source": [
        "# 평가"
      ]
    },
    {
      "cell_type": "code",
      "metadata": {
        "id": "Nfa-O-tlz3Y2",
        "colab_type": "code",
        "colab": {}
      },
      "source": [
        "scores = model.evaluate(x_test, y_test)\n",
        "print(\"%s: %.2f%%\" %(model.metrics_names[1], scores[1]*100))"
      ],
      "execution_count": 0,
      "outputs": []
    }
  ]
}